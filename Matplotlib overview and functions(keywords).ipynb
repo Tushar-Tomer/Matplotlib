{
 "cells": [
  {
   "cell_type": "markdown",
   "id": "0e981ba9",
   "metadata": {},
   "source": [
    "# Matplotlib\n",
    "# Matplotlib have two types:\n",
    "# 1. Univarient : Piechart,hist,boxplot in matplotlib\n",
    "# 2. Bivarient : Bar, line, scatter"
   ]
  },
  {
   "cell_type": "code",
   "execution_count": null,
   "id": "a63265db",
   "metadata": {},
   "outputs": [],
   "source": []
  },
  {
   "cell_type": "markdown",
   "id": "f08c9006",
   "metadata": {},
   "source": [
    "# Data Visualization : Presentation Data on graphical\n",
    "#### Phases of Data Visualization\n",
    "#### Visualization\n",
    "#### Data Analysis\n",
    "#### Document insights\n",
    "#### Transform the Data"
   ]
  },
  {
   "cell_type": "code",
   "execution_count": null,
   "id": "62eba8ef",
   "metadata": {},
   "outputs": [],
   "source": []
  },
  {
   "cell_type": "markdown",
   "id": "d4bedac5",
   "metadata": {},
   "source": [
    "# Line Plot\n",
    "# Use of line plot\n",
    "# 1. bivarient analysis\n",
    "# 2. numeric - numeric / numeric - categorical\n",
    "# When we want to see the trend / time"
   ]
  },
  {
   "cell_type": "code",
   "execution_count": null,
   "id": "83bbe154",
   "metadata": {},
   "outputs": [],
   "source": []
  },
  {
   "cell_type": "markdown",
   "id": "e29d1975",
   "metadata": {},
   "source": [
    "# Using this plots in matplotlib:\n",
    "# 1. plt.plot(variable 1, variable 2)\n",
    "# 2. plt.scatter(variable 1, variable 2)\n",
    "# 3. plt.bar(variable 1, variable 2)\n",
    "# 4. plt.hist(variable 1)\n",
    "# 5. plt.pie(variable 1)\n",
    "# 6. plt.subplot(Enter row no. , Enter column no. , Enter index no.)"
   ]
  },
  {
   "cell_type": "code",
   "execution_count": null,
   "id": "96257064",
   "metadata": {},
   "outputs": [],
   "source": []
  },
  {
   "cell_type": "markdown",
   "id": "d4306592",
   "metadata": {},
   "source": [
    "# We can use this function/keyword in matplotlib\n",
    "## 1. color = \"Enter Color Name\"\n",
    "## 2. marker = \"Enter marker sign\"  (^ , o , etc)\n",
    "## 3. linestyle = \"Enter linestyle\" (- , -- , -. , :)\n",
    "## 4. markersize = Enter No.\n",
    "## 5. plt.plot(variable,variable)\n",
    "## 6. plt.xlabel(\"x axis\")\n",
    "## 7. plt.ylabel(\"y axis\")\n",
    "## 8. plt.title(\"Enter Title name\")\n",
    "## 9. plt.show() / ;(semicolen)\n",
    "## 10. label=\"Enter lable name\" ( plt.legend() lagana compulsary hai label dene ka liye )\n",
    "## 11. figure size = plt.figure(figsize=(Enter lenght , Enter Height))    \n",
    "## Note : figure size plot karne se phale deyenge.\n",
    "## 12. dpi : dpi=Enter figure size no.  (dpi large the figure size)\n",
    "## 13. rotate words = plt.xticks(rotation=Enter No.)  ( This keyword is used for rotating x axis )\n",
    "## 14. change ticks(x labels) = plt.xticks([Enter label numbers]) ( With the help of this keyword we will gives the x axis labels )\n",
    "## 15. width : width=.2/.1/.4/.5 (width change the size of bar line by default it .5)\n",
    "## 16. edgecolor=\"Enter color name\" (edgecolor change the color of bar edge).\n",
    "## 17. piechart labels = labels=[\"Enter Label Name\"]\n",
    "## 18. autopct=\"%0.01f%%\" (It gives the percentage and 0.0 ka baad jitnay no. hum deyenge utna no. tak hama points ma answer milega).\n",
    "## 19. shadow=True (It gives shadow in pie chart)\n",
    "## 20. explode=[0,0,0,0] ( jis bhi data ko alag karna hai use data pr no. deyenge aur no. hama jitni door karna hai utna no. deyenge)\n",
    "## 21. Figure Save = plt.savefig(\"Write Figure Name.jpg\")"
   ]
  },
  {
   "cell_type": "code",
   "execution_count": null,
   "id": "61b0b3c7",
   "metadata": {},
   "outputs": [],
   "source": []
  }
 ],
 "metadata": {
  "kernelspec": {
   "display_name": "Python 3 (ipykernel)",
   "language": "python",
   "name": "python3"
  },
  "language_info": {
   "codemirror_mode": {
    "name": "ipython",
    "version": 3
   },
   "file_extension": ".py",
   "mimetype": "text/x-python",
   "name": "python",
   "nbconvert_exporter": "python",
   "pygments_lexer": "ipython3",
   "version": "3.9.12"
  }
 },
 "nbformat": 4,
 "nbformat_minor": 5
}
